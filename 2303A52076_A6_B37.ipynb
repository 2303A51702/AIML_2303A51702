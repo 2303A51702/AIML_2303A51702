{
  "nbformat": 4,
  "nbformat_minor": 0,
  "metadata": {
    "colab": {
      "provenance": []
    },
    "kernelspec": {
      "name": "python3",
      "display_name": "Python 3"
    },
    "language_info": {
      "name": "python"
    }
  },
  "cells": [
    {
      "cell_type": "code",
      "source": [
        "import zipfile\n",
        "\n",
        "zip_file_path = '/content/national+poll+on+healthy+aging+(npha).zip'  # Update with the correct file path\n",
        "extract_path = 'desired_extraction_directory'  # Update with the directory where you want to extract\n",
        "\n",
        "with zipfile.ZipFile(zip_file_path, 'r') as zip_ref:\n",
        "    zip_ref.extractall(extract_path)\n",
        "\n",
        "print(\"Extraction complete. Files extracted to:\", extract_path)\n"
      ],
      "metadata": {
        "colab": {
          "base_uri": "https://localhost:8080/"
        },
        "id": "QTU-gPP24yOs",
        "outputId": "6783e05c-d378-47c3-cc84-3a1ad776ae5d"
      },
      "execution_count": null,
      "outputs": [
        {
          "output_type": "stream",
          "name": "stdout",
          "text": [
            "Extraction complete. Files extracted to: desired_extraction_directory\n"
          ]
        }
      ]
    },
    {
      "cell_type": "code",
      "source": [
        "import pandas as pd\n",
        "\n",
        "# Load the CSV file\n",
        "file_path = '/content/NPHA-doctor-visits.csv'  # Update with the correct path\n",
        "data = pd.read_csv(file_path)\n",
        "\n",
        "# Correct column names based on the dataset\n",
        "columns_of_interest = ['Phyiscal Health', 'Mental Health', 'Dental Health',\n",
        "                        'Employment', 'Stress Keeps Patient from Sleeping']\n",
        "\n",
        "# Calculate the mean of each factor\n",
        "factor_means = data[columns_of_interest].mean()\n",
        "\n",
        "# Identify the top 5 factors\n",
        "top_5_reasons = factor_means.sort_values(ascending=False).head(5)\n",
        "\n",
        "# Display the results\n",
        "print(\"Top 5 reasons for healthy aging:\")\n",
        "print(top_5_reasons)\n"
      ],
      "metadata": {
        "colab": {
          "base_uri": "https://localhost:8080/"
        },
        "id": "9aQaVsGC874-",
        "outputId": "c41a76d9-bde2-4259-f2ef-d486b7511bce"
      },
      "execution_count": 14,
      "outputs": [
        {
          "output_type": "stream",
          "name": "stdout",
          "text": [
            "Top 5 reasons for healthy aging:\n",
            "Dental Health                         3.009804\n",
            "Employment                            2.806723\n",
            "Phyiscal Health                       2.794118\n",
            "Mental Health                         1.988796\n",
            "Stress Keeps Patient from Sleeping    0.247899\n",
            "dtype: float64\n"
          ]
        }
      ]
    },
    {
      "cell_type": "code",
      "source": [
        "# Group by 'Race' (or another community-related column) and calculate the average of health-related columns\n",
        "community_health = data.groupby('Race')[['Phyiscal Health', 'Mental Health', 'Dental Health',\n",
        "                                         'Employment', 'Stress Keeps Patient from Sleeping']].mean()\n",
        "\n",
        "# Calculate a composite score for each community (average of all health factors)\n",
        "community_health['Aging Issues Score'] = community_health.mean(axis=1)\n",
        "\n",
        "# Sort by the 'Aging Issues Score' to identify the community with the highest aging issues\n",
        "highest_aging_community = community_health['Aging Issues Score'].idxmin()  # Community with the lowest score\n",
        "highest_aging_score = community_health['Aging Issues Score'].min()\n",
        "\n",
        "print(f\"The community with the highest aging issues is {highest_aging_community} with a score of {highest_aging_score}.\")\n"
      ],
      "metadata": {
        "colab": {
          "base_uri": "https://localhost:8080/"
        },
        "id": "hRZh_jAj9fnq",
        "outputId": "8463e91a-5200-497e-dcc1-48b08e3df04e"
      },
      "execution_count": 15,
      "outputs": [
        {
          "output_type": "stream",
          "name": "stdout",
          "text": [
            "The community with the highest aging issues is 1 with a score of 2.1491349480968855.\n"
          ]
        }
      ]
    },
    {
      "cell_type": "code",
      "source": [
        "# Group by 'Gender' and calculate the average of health-related columns\n",
        "gender_health = data.groupby('Gender')[['Phyiscal Health', 'Mental Health', 'Dental Health',\n",
        "                                         'Employment', 'Stress Keeps Patient from Sleeping']].mean()\n",
        "\n",
        "# Calculate a composite aging issues score for each gender\n",
        "gender_health['Aging Issues Score'] = gender_health.mean(axis=1)\n",
        "\n",
        "# Sort by Aging Issues Score to identify the gender with the most and least aging issues\n",
        "most_aging_gender = gender_health['Aging Issues Score'].idxmin()  # Gender with the lowest score (most aging issues)\n",
        "least_aging_gender = gender_health['Aging Issues Score'].idxmax()  # Gender with the highest score (least aging issues)\n",
        "\n",
        "most_aging_score = gender_health['Aging Issues Score'].min()\n",
        "least_aging_score = gender_health['Aging Issues Score'].max()\n",
        "\n",
        "print(f\"The gender with the most aging issues is {most_aging_gender} with a score of {most_aging_score}.\")\n",
        "print(f\"The gender with the least aging issues is {least_aging_gender} with a score of {least_aging_score}.\")\n"
      ],
      "metadata": {
        "colab": {
          "base_uri": "https://localhost:8080/"
        },
        "id": "fIpqoguO-Rc3",
        "outputId": "6e7dc96c-294d-4364-cbc9-c227df957010"
      },
      "execution_count": 16,
      "outputs": [
        {
          "output_type": "stream",
          "name": "stdout",
          "text": [
            "The gender with the most aging issues is 1 with a score of 2.1551401869158875.\n",
            "The gender with the least aging issues is 2 with a score of 2.18117048346056.\n"
          ]
        }
      ]
    },
    {
      "cell_type": "code",
      "source": [
        "# Correlation of Age, Employment, and Mental Stress with health factors\n",
        "correlations = data[['Age', 'Employment', 'Stress Keeps Patient from Sleeping',\n",
        "                     'Phyiscal Health', 'Mental Health', 'Dental Health']].corr()\n",
        "\n",
        "# Display correlation matrix\n",
        "print(\"Correlation between Age, Employment, Mental Stress and Health Aging Factors:\")\n",
        "print(correlations)\n",
        "\n",
        "# Specifically, we'll look at the correlations between Age, Employment, Stress, and health factors\n",
        "age_correlation = correlations['Age'][['Phyiscal Health', 'Mental Health', 'Dental Health']]\n",
        "employment_correlation = correlations['Employment'][['Phyiscal Health', 'Mental Health', 'Dental Health']]\n",
        "stress_correlation = correlations['Stress Keeps Patient from Sleeping'][['Phyiscal Health', 'Mental Health', 'Dental Health']]\n",
        "\n",
        "print(\"\\nAge correlation with health factors:\")\n",
        "print(age_correlation)\n",
        "\n",
        "print(\"\\nEmployment correlation with health factors:\")\n",
        "print(employment_correlation)\n",
        "\n",
        "print(\"\\nMental Stress correlation with health factors:\")\n",
        "print(stress_correlation)\n"
      ],
      "metadata": {
        "id": "IlTK8bTOAyYV",
        "outputId": "314c4bd4-d550-453e-dbd1-6b5f0b44a860",
        "colab": {
          "base_uri": "https://localhost:8080/"
        }
      },
      "execution_count": 17,
      "outputs": [
        {
          "output_type": "stream",
          "name": "stdout",
          "text": [
            "Correlation between Age, Employment, Mental Stress and Health Aging Factors:\n",
            "                                    Age  Employment  \\\n",
            "Age                                 NaN         NaN   \n",
            "Employment                          NaN    1.000000   \n",
            "Stress Keeps Patient from Sleeping  NaN   -0.043106   \n",
            "Phyiscal Health                     NaN    0.147526   \n",
            "Mental Health                       NaN    0.077469   \n",
            "Dental Health                       NaN    0.076156   \n",
            "\n",
            "                                    Stress Keeps Patient from Sleeping  \\\n",
            "Age                                                                NaN   \n",
            "Employment                                                   -0.043106   \n",
            "Stress Keeps Patient from Sleeping                            1.000000   \n",
            "Phyiscal Health                                               0.034014   \n",
            "Mental Health                                                 0.138074   \n",
            "Dental Health                                                -0.018446   \n",
            "\n",
            "                                    Phyiscal Health  Mental Health  \\\n",
            "Age                                             NaN            NaN   \n",
            "Employment                                 0.147526       0.077469   \n",
            "Stress Keeps Patient from Sleeping         0.034014       0.138074   \n",
            "Phyiscal Health                            1.000000       0.404705   \n",
            "Mental Health                              0.404705       1.000000   \n",
            "Dental Health                              0.404238       0.269770   \n",
            "\n",
            "                                    Dental Health  \n",
            "Age                                           NaN  \n",
            "Employment                               0.076156  \n",
            "Stress Keeps Patient from Sleeping      -0.018446  \n",
            "Phyiscal Health                          0.404238  \n",
            "Mental Health                            0.269770  \n",
            "Dental Health                            1.000000  \n",
            "\n",
            "Age correlation with health factors:\n",
            "Phyiscal Health   NaN\n",
            "Mental Health     NaN\n",
            "Dental Health     NaN\n",
            "Name: Age, dtype: float64\n",
            "\n",
            "Employment correlation with health factors:\n",
            "Phyiscal Health    0.147526\n",
            "Mental Health      0.077469\n",
            "Dental Health      0.076156\n",
            "Name: Employment, dtype: float64\n",
            "\n",
            "Mental Stress correlation with health factors:\n",
            "Phyiscal Health    0.034014\n",
            "Mental Health      0.138074\n",
            "Dental Health     -0.018446\n",
            "Name: Stress Keeps Patient from Sleeping, dtype: float64\n"
          ]
        }
      ]
    },
    {
      "cell_type": "code",
      "source": [
        "# Group by a relevant category (e.g., 'Gender', 'Race', or 'Age') and calculate the average number of doctor visits\n",
        "doctor_visits_by_category = data.groupby('Gender')['Number of Doctors Visited'].mean()\n",
        "\n",
        "# Find the category with the most number of doctor visits\n",
        "category_with_most_visits = doctor_visits_by_category.idxmax()  # Category with the highest mean visits\n",
        "most_visits = doctor_visits_by_category.max()\n",
        "\n",
        "print(f\"The category with the most number of doctor visits is {category_with_most_visits} with an average of {most_visits} visits.\")\n"
      ],
      "metadata": {
        "id": "1aTD8JqUA1sh",
        "outputId": "3e64f427-e3c9-48ab-8c80-a1866bcd8e6b",
        "colab": {
          "base_uri": "https://localhost:8080/"
        }
      },
      "execution_count": 18,
      "outputs": [
        {
          "output_type": "stream",
          "name": "stdout",
          "text": [
            "The category with the most number of doctor visits is 1 with an average of 2.1121495327102804 visits.\n"
          ]
        }
      ]
    }
  ]
}